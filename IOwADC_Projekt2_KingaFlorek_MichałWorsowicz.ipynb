{
  "nbformat": 4,
  "nbformat_minor": 0,
  "metadata": {
    "colab": {
      "name": "IOwADC_Projekt2_KingaFlorek_MichałWorsowicz.ipynb",
      "provenance": [],
      "collapsed_sections": [
        "yN7qGWsrhsHc"
      ]
    },
    "kernelspec": {
      "display_name": "Python 3",
      "name": "python3"
    },
    "language_info": {
      "name": "python"
    }
  },
  "cells": [
    {
      "cell_type": "markdown",
      "metadata": {
        "id": "yN7qGWsrhsHc"
      },
      "source": [
        "## Kinga Florek, florek.kinga@gmail.com \n",
        "## Michał Worsowicz, michal.worsowicz@o2.pl"
      ]
    },
    {
      "cell_type": "markdown",
      "metadata": {
        "id": "se-fgYYxDPxU"
      },
      "source": [
        "# **Importy i funkcje**"
      ]
    },
    {
      "cell_type": "code",
      "metadata": {
        "id": "as-nlvB9k8EE"
      },
      "source": [
        "import cv2\n",
        "import keras\n",
        "import numpy as np\n",
        "import matplotlib.pyplot as plt\n",
        "from keras.datasets import mnist\n",
        "from keras.utils import to_categorical\n",
        "from tensorflow.keras import models\n",
        "from tensorflow.keras import layers\n",
        "from sklearn import svm\n",
        "from sklearn.metrics import classification_report, confusion_matrix, accuracy_score\n",
        "from sklearn.ensemble import RandomForestClassifier\n",
        "from sklearn.model_selection import GridSearchCV\n",
        "from sklearn.svm import SVC\n",
        "from keras.wrappers.scikit_learn import KerasClassifier\n",
        "\n",
        "SZ = 28\n",
        "affine_flags = cv2.WARP_INVERSE_MAP|cv2.INTER_LINEAR\n",
        "\n",
        "def deskew(img):\n",
        "    m = cv2.moments(img)\n",
        "    if abs(m['mu02']) < 1e-2:\n",
        "        return img.copy()\n",
        "    skew = m['mu11']/m['mu02']\n",
        "    M = np.float32([[1, skew, -0.5*SZ*skew], [0, 1, 0]])\n",
        "    img = cv2.warpAffine(img,M,(SZ, SZ),flags=affine_flags)\n",
        "    return img\n",
        "\n",
        "def showOpencvImage(image, isGray=False):\n",
        "    fig = plt.figure(figsize=(6, 6))\n",
        "    plt.imshow(image, cmap = 'gray')\n",
        "    plt.show()\n",
        "\n",
        "def openCVHOG(im):\n",
        "    winSize = (20,20)\n",
        "    blockSize = (10,10)\n",
        "    blockStride = (5,5)\n",
        "    cellSize = (10,10)\n",
        "    nbins = 9\n",
        "    derivAperture = 1\n",
        "    winSigma = -1.\n",
        "    histogramNormType = 0\n",
        "    L2HysThreshold = 0.2\n",
        "    gammaCorrection = 1\n",
        "    nlevels = 64\n",
        "    signedGradients = True\n",
        "\n",
        "    hog = cv2.HOGDescriptor(winSize,blockSize,blockStride,cellSize,nbins,derivAperture,winSigma,histogramNormType,L2HysThreshold,gammaCorrection,nlevels, signedGradients)\n",
        "    descriptor = np.ravel(hog.compute(im))\n",
        "    \n",
        "    return descriptor\n",
        "\n",
        "def create_model(input_shape=None):\n",
        "  network = models.Sequential()\n",
        "  network.add(layers.Dense(512, activation='relu', input_shape=input_shape))\n",
        "  network.add(layers.Dense(10, activation='softmax'))\n",
        "  network.compile(optimizer='rmsprop',\n",
        "                  loss='categorical_crossentropy',\n",
        "                  metrics=['accuracy'])\n",
        "  return network"
      ],
      "execution_count": null,
      "outputs": []
    },
    {
      "cell_type": "markdown",
      "metadata": {
        "id": "gZqjRrBIC4F7"
      },
      "source": [
        "# **Obrazy oryginalne -> Deskew -> HOG -> Klasyfikator** [Zadanie 2a, 3a]"
      ]
    },
    {
      "cell_type": "markdown",
      "metadata": {
        "id": "trEWKc0hDgqr"
      },
      "source": [
        "## Przygotowanie zbiorów danych"
      ]
    },
    {
      "cell_type": "code",
      "metadata": {
        "id": "ywmRpMCnDrPc"
      },
      "source": [
        "(train_images, train_labels), (test_images, test_labels) = mnist.load_data() \n",
        "\n",
        "# dla klasycznych klasyfikatorów \n",
        "im_list = [train_images[i] for i in range(0,train_images.shape[0])] + [test_images[i] for i in range(0,test_images.shape[0])]\n",
        "\n",
        "train_deskewed = [deskew(im) for im in im_list[0:train_images.shape[0]]]\n",
        "test_deskewed = [deskew(im) for im in im_list[train_images.shape[0]:]]\n",
        "\n",
        "train_deskewed = np.asarray(train_deskewed)\n",
        "test_deskewed = np.asarray(test_deskewed)\n",
        "\n",
        "im_list = [train_deskewed[i] for i in range(0,train_deskewed.shape[0])] + [test_deskewed[i] for i in range(0,test_deskewed.shape[0])]\n",
        "\n",
        "hogdata = [openCVHOG(im) for im in im_list]\n",
        "imData = np.float32(hogdata).reshape(-1,81)\n",
        "\n",
        "# dla sieci\n",
        "train_images = [openCVHOG(im) for im in train_deskewed]\n",
        "train_images = np.float32(train_images).reshape(-1,81)\n",
        "\n",
        "test_images = [openCVHOG(im) for im in test_deskewed]\n",
        "test_images = np.float32(test_images).reshape(-1,81)\n",
        "\n",
        "train_images = train_images.reshape((60000, 81))\n",
        "train_images = train_images.astype('float32') / 255\n",
        "\n",
        "test_images = test_images.reshape((10000, 81))\n",
        "test_images = test_images.astype('float32') / 255\n",
        "\n",
        "encoded_train_labels = to_categorical(train_labels)\n",
        "encoded_test_labels = to_categorical(test_labels)"
      ],
      "execution_count": null,
      "outputs": []
    },
    {
      "cell_type": "markdown",
      "metadata": {
        "id": "1IaQXbHvDyNi"
      },
      "source": [
        "## SVM "
      ]
    },
    {
      "cell_type": "code",
      "metadata": {
        "colab": {
          "base_uri": "https://localhost:8080/"
        },
        "id": "V9AhACe8hu9O",
        "outputId": "a5a4afe7-3403-4d86-f190-62b20f66b0bd"
      },
      "source": [
        "print(\"SVM, \\t Obrazy oryginalne -> Deskew -> HOG -> Klasyfikator \\n\")\n",
        "grid_params_svm = [{'kernel': ['rbf'], 'gamma': [1e-3, 1e-4],\n",
        "                     'C': [1, 10, 100, 1000]},\n",
        "                    {'kernel': ['linear'], 'C': [1, 10, 100, 1000]}]\n",
        "\n",
        "model = GridSearchCV(SVC(),param_grid=grid_params_svm)\n",
        "model.fit(imData[0:600,:],train_labels[0:600])\n",
        "print(\"Best params: \", model.best_params_)\n",
        "pred_labels = model.predict(imData[600:1000,:])\n",
        "\n",
        "mask = pred_labels==train_labels[600:1000]\n",
        "correct = np.count_nonzero(mask)\n",
        "print(\"Accuracy:\", correct*100.0/pred_labels.size)\n",
        "\n",
        "cm = confusion_matrix(train_labels[600:1000], pred_labels)\n",
        "print(\"\\n\", cm)\n",
        "print(\"\\n\", classification_report(train_labels[600:1000], pred_labels))"
      ],
      "execution_count": null,
      "outputs": [
        {
          "output_type": "stream",
          "text": [
            "SVM, \t Obrazy oryginalne -> Deskew -> HOG -> Klasyfikator \n",
            "\n",
            "Best params:  {'C': 1000, 'gamma': 0.001, 'kernel': 'rbf'}\n",
            "Accuracy: 94.25\n",
            "\n",
            " [[39  0  0  0  0  0  0  0  0  0]\n",
            " [ 0 37  0  0  0  0  0  0  0  0]\n",
            " [ 0  0 33  0  0  0  0  2  0  0]\n",
            " [ 0  0  0 34  0  0  0  0  0  0]\n",
            " [ 1  0  0  0 44  0  1  0  0  0]\n",
            " [ 0  0  0  1  0 38  0  1  0  1]\n",
            " [ 0  0  1  0  0  1 38  0  0  0]\n",
            " [ 0  0  2  3  1  0  0 49  0  0]\n",
            " [ 1  0  0  0  1  0  0  0 36  0]\n",
            " [ 4  0  0  0  0  0  0  2  0 29]]\n",
            "\n",
            "               precision    recall  f1-score   support\n",
            "\n",
            "           0       0.87      1.00      0.93        39\n",
            "           1       1.00      1.00      1.00        37\n",
            "           2       0.92      0.94      0.93        35\n",
            "           3       0.89      1.00      0.94        34\n",
            "           4       0.96      0.96      0.96        46\n",
            "           5       0.97      0.93      0.95        41\n",
            "           6       0.97      0.95      0.96        40\n",
            "           7       0.91      0.89      0.90        55\n",
            "           8       1.00      0.95      0.97        38\n",
            "           9       0.97      0.83      0.89        35\n",
            "\n",
            "    accuracy                           0.94       400\n",
            "   macro avg       0.95      0.94      0.94       400\n",
            "weighted avg       0.94      0.94      0.94       400\n",
            "\n"
          ],
          "name": "stdout"
        }
      ]
    },
    {
      "cell_type": "markdown",
      "metadata": {
        "id": "6WWSoE3aD5rA"
      },
      "source": [
        "## Las losowy"
      ]
    },
    {
      "cell_type": "code",
      "metadata": {
        "colab": {
          "base_uri": "https://localhost:8080/"
        },
        "id": "360SCuMMD97N",
        "outputId": "d5774054-444f-4365-a85f-790b95c4e068"
      },
      "source": [
        "print(\"Las losowy, \\t Obrazy oryginalne -> Deskew -> HOG -> Klasyfikator \\n\")\n",
        "grid_params_rfc = {'max_depth': [3, 5, 10],\n",
        "                  'min_samples_split': [2, 5, 10]}\n",
        "\n",
        "rfc = GridSearchCV(RandomForestClassifier(),param_grid=grid_params_rfc)\n",
        "rfc = rfc.fit(imData[0:600,:],train_labels[0:600])\n",
        "print(\"Best params: \", rfc.best_params_)\n",
        "pred_labels = rfc.predict(imData[600:1000,:])\n",
        "\n",
        "mask = pred_labels==train_labels[600:1000]\n",
        "correct = np.count_nonzero(mask)\n",
        "print(\"Accuracy:\", correct*100.0/pred_labels.size)\n",
        "\n",
        "cm = confusion_matrix(train_labels[600:1000], pred_labels)\n",
        "print(\"\\n\", cm)\n",
        "print(\"\\n\", classification_report(train_labels[600:1000], pred_labels))"
      ],
      "execution_count": null,
      "outputs": [
        {
          "output_type": "stream",
          "text": [
            "Las losowy, \t Obrazy oryginalne -> Deskew -> HOG -> Klasyfikator \n",
            "\n",
            "Best params:  {'max_depth': 10, 'min_samples_split': 5}\n",
            "Accuracy: 93.0\n",
            "\n",
            " [[39  0  0  0  0  0  0  0  0  0]\n",
            " [ 0 37  0  0  0  0  0  0  0  0]\n",
            " [ 0  0 31  0  1  1  0  1  0  1]\n",
            " [ 0  0  1 33  0  0  0  0  0  0]\n",
            " [ 1  0  0  0 42  1  2  0  0  0]\n",
            " [ 0  0  1  0  0 38  0  0  0  2]\n",
            " [ 2  1  0  0  1  0 36  0  0  0]\n",
            " [ 0  0  1  2  1  0  0 51  0  0]\n",
            " [ 1  0  0  0  1  0  0  0 36  0]\n",
            " [ 2  0  0  0  0  2  1  1  0 29]]\n",
            "\n",
            "               precision    recall  f1-score   support\n",
            "\n",
            "           0       0.87      1.00      0.93        39\n",
            "           1       0.97      1.00      0.99        37\n",
            "           2       0.91      0.89      0.90        35\n",
            "           3       0.94      0.97      0.96        34\n",
            "           4       0.91      0.91      0.91        46\n",
            "           5       0.90      0.93      0.92        41\n",
            "           6       0.92      0.90      0.91        40\n",
            "           7       0.96      0.93      0.94        55\n",
            "           8       1.00      0.95      0.97        38\n",
            "           9       0.91      0.83      0.87        35\n",
            "\n",
            "    accuracy                           0.93       400\n",
            "   macro avg       0.93      0.93      0.93       400\n",
            "weighted avg       0.93      0.93      0.93       400\n",
            "\n"
          ],
          "name": "stdout"
        }
      ]
    },
    {
      "cell_type": "markdown",
      "metadata": {
        "id": "HQAcCzYtD738"
      },
      "source": [
        "## Sieć"
      ]
    },
    {
      "cell_type": "code",
      "metadata": {
        "colab": {
          "background_save": true,
          "base_uri": "https://localhost:8080/"
        },
        "id": "tLQ8nFy3D-hm",
        "outputId": "b0eb22a0-9ea0-4ec5-8bb1-9c05d5ee1361"
      },
      "source": [
        "print(\"Sieć, \\t Obrazy oryginalne -> Deskew -> HOG -> Klasyfikator \\n\")\n",
        "\n",
        "grid_params_network = {\n",
        "    'batch_size' : [10, 20, 40],\n",
        "    'epochs' : [1, 5, 10]\n",
        "}\n",
        "\n",
        "model = KerasClassifier(build_fn=create_model, verbose=0, input_shape=(81,))\n",
        "network = GridSearchCV(estimator=model, param_grid=grid_params_network, n_jobs=-1, cv=3)\n",
        "network = network.fit(train_images, encoded_train_labels)\n",
        "print(\"Best params: \", network.best_params_)\n",
        "\n",
        "pred_probabilities = network.predict(test_images)\n",
        "pred_labels = np.argmax(pred_probabilities,-1)\n",
        "\n",
        "test_acc = accuracy_score(test_labels, pred_probabilities)\n",
        "print('Accuracy:', test_acc) \n",
        "\n",
        "cm = confusion_matrix(test_labels, pred_probabilities)\n",
        "print(\"\\n\", cm)\n",
        "print(\"\\n\", classification_report(test_labels, pred_probabilities))"
      ],
      "execution_count": null,
      "outputs": [
        {
          "output_type": "stream",
          "text": [
            "Sieć, \t Obrazy oryginalne -> Deskew -> HOG -> Klasyfikator \n",
            "\n",
            "Best params:  {'batch_size': 10, 'epochs': 10}\n"
          ],
          "name": "stdout"
        },
        {
          "output_type": "stream",
          "text": [
            "/usr/local/lib/python3.7/dist-packages/tensorflow/python/keras/engine/sequential.py:450: UserWarning: `model.predict_classes()` is deprecated and will be removed after 2021-01-01. Please use instead:* `np.argmax(model.predict(x), axis=-1)`,   if your model does multi-class classification   (e.g. if it uses a `softmax` last-layer activation).* `(model.predict(x) > 0.5).astype(\"int32\")`,   if your model does binary classification   (e.g. if it uses a `sigmoid` last-layer activation).\n",
            "  warnings.warn('`model.predict_classes()` is deprecated and '\n"
          ],
          "name": "stderr"
        },
        {
          "output_type": "stream",
          "text": [
            "Accuracy: 0.9558\n",
            "\n",
            " [[ 949    0    4    0    1    5    8    1    6    6]\n",
            " [   1 1122    2    1    3    0    0    3    2    1]\n",
            " [   0    2  986   11    0    0    1   20   10    2]\n",
            " [   0    1   11  974    0   10    0    9    5    0]\n",
            " [   2    2    4    0  938    2   12    0   12   10]\n",
            " [   1    0    1    3    0  873    2    1    9    2]\n",
            " [   6    3    0    0    7    5  933    0    4    0]\n",
            " [   3    4   41   35    0    0    0  932    5    8]\n",
            " [   0    0    3   10    7    4    2    3  934   11]\n",
            " [   7    1    6    3    4   15    4   13   39  917]]\n",
            "\n",
            "               precision    recall  f1-score   support\n",
            "\n",
            "           0       0.98      0.97      0.97       980\n",
            "           1       0.99      0.99      0.99      1135\n",
            "           2       0.93      0.96      0.94      1032\n",
            "           3       0.94      0.96      0.95      1010\n",
            "           4       0.98      0.96      0.97       982\n",
            "           5       0.96      0.98      0.97       892\n",
            "           6       0.97      0.97      0.97       958\n",
            "           7       0.95      0.91      0.93      1028\n",
            "           8       0.91      0.96      0.93       974\n",
            "           9       0.96      0.91      0.93      1009\n",
            "\n",
            "    accuracy                           0.96     10000\n",
            "   macro avg       0.96      0.96      0.96     10000\n",
            "weighted avg       0.96      0.96      0.96     10000\n",
            "\n"
          ],
          "name": "stdout"
        }
      ]
    },
    {
      "cell_type": "markdown",
      "metadata": {
        "id": "5RO85kweCmt7"
      },
      "source": [
        "# **Obrazy oryginalne -> HOG -> Klasyfikator** [Zadanie 2b]"
      ]
    },
    {
      "cell_type": "markdown",
      "metadata": {
        "id": "7Y8EiggPE-FQ"
      },
      "source": [
        "## Przygotowanie danych"
      ]
    },
    {
      "cell_type": "code",
      "metadata": {
        "id": "qCX1ELbJE-QE"
      },
      "source": [
        "(train_images, train_labels), (test_images, test_labels) = mnist.load_data() \n",
        "\n",
        "# dla klasycznych  klasyfikatorów \n",
        "im_list = [train_images[i] for i in range(0,train_images.shape[0])] + [test_images[i] for i in range(0,test_images.shape[0])]\n",
        "hogdata = [openCVHOG(im) for im in im_list]\n",
        "imData = np.float32(hogdata).reshape(-1,81)\n",
        "\n",
        "# dla sieci \n",
        "train_images = [openCVHOG(im) for im in train_images]\n",
        "train_images = np.float32(train_images).reshape(-1,81)\n",
        "\n",
        "test_images = [openCVHOG(im) for im in test_images]\n",
        "test_images = np.float32(test_images).reshape(-1,81)\n",
        "\n",
        "train_images = train_images.reshape((60000, 81))\n",
        "train_images = train_images.astype('float32') / 255\n",
        "\n",
        "test_images = test_images.reshape((10000, 81))\n",
        "test_images = test_images.astype('float32') / 255\n",
        "\n",
        "encoded_train_labels = to_categorical(train_labels)\n",
        "encoded_test_labels = to_categorical(test_labels)"
      ],
      "execution_count": null,
      "outputs": []
    },
    {
      "cell_type": "markdown",
      "metadata": {
        "id": "Mcen_p6DE-YG"
      },
      "source": [
        "## SVM"
      ]
    },
    {
      "cell_type": "code",
      "metadata": {
        "colab": {
          "base_uri": "https://localhost:8080/"
        },
        "id": "WiGPaDEiE-fm",
        "outputId": "0eeb263b-5ba7-46de-ffc2-47688cf12b57"
      },
      "source": [
        "print(\"SVM, \\t Obrazy oryginalne -> HOG -> Klasyfikator \\n\")\n",
        "\n",
        "grid_params_svm = [{'kernel': ['rbf'], 'gamma': [1e-3, 1e-4],\n",
        "                     'C': [1, 10, 100, 1000]},\n",
        "                    {'kernel': ['linear'], 'C': [1, 10, 100, 1000]}]\n",
        "\n",
        "model = GridSearchCV(SVC(),param_grid=grid_params_svm)\n",
        "model.fit(imData[0:600,:],train_labels[0:600])\n",
        "print(\"Best params: \", model.best_params_)\n",
        "pred_labels = model.predict(imData[600:1000,:])\n",
        "\n",
        "mask = pred_labels==train_labels[600:1000]\n",
        "correct = np.count_nonzero(mask)\n",
        "print(\"Accuracy:\", correct*100.0/pred_labels.size)\n",
        "\n",
        "cm = confusion_matrix(train_labels[600:1000], pred_labels)\n",
        "print(\"\\n\", cm)\n",
        "print(\"\\n\", classification_report(train_labels[600:1000], pred_labels))"
      ],
      "execution_count": null,
      "outputs": [
        {
          "output_type": "stream",
          "text": [
            "SVM, \t Obrazy oryginalne -> HOG -> Klasyfikator \n",
            "\n",
            "Best params:  {'C': 1, 'kernel': 'linear'}\n",
            "Accuracy: 90.0\n",
            "\n",
            " [[38  0  1  0  0  0  0  0  0  0]\n",
            " [ 0 37  0  0  0  0  0  0  0  0]\n",
            " [ 0  0 30  0  0  0  0  4  1  0]\n",
            " [ 0  0  0 30  0  2  0  1  0  1]\n",
            " [ 0  0  0  0 39  1  4  0  1  1]\n",
            " [ 0  0  2  1  0 36  0  0  1  1]\n",
            " [ 1  1  0  0  0  0 37  0  1  0]\n",
            " [ 0  0  4  1  1  0  0 49  0  0]\n",
            " [ 1  0  0  0  1  1  0  0 34  1]\n",
            " [ 3  0  0  0  0  0  1  1  0 30]]\n",
            "\n",
            "               precision    recall  f1-score   support\n",
            "\n",
            "           0       0.88      0.97      0.93        39\n",
            "           1       0.97      1.00      0.99        37\n",
            "           2       0.81      0.86      0.83        35\n",
            "           3       0.94      0.88      0.91        34\n",
            "           4       0.95      0.85      0.90        46\n",
            "           5       0.90      0.88      0.89        41\n",
            "           6       0.88      0.93      0.90        40\n",
            "           7       0.89      0.89      0.89        55\n",
            "           8       0.89      0.89      0.89        38\n",
            "           9       0.88      0.86      0.87        35\n",
            "\n",
            "    accuracy                           0.90       400\n",
            "   macro avg       0.90      0.90      0.90       400\n",
            "weighted avg       0.90      0.90      0.90       400\n",
            "\n"
          ],
          "name": "stdout"
        }
      ]
    },
    {
      "cell_type": "markdown",
      "metadata": {
        "id": "bctuCY2rE-nH"
      },
      "source": [
        "## Las losowy"
      ]
    },
    {
      "cell_type": "code",
      "metadata": {
        "colab": {
          "base_uri": "https://localhost:8080/"
        },
        "id": "0_9mRHIkE-vD",
        "outputId": "ea8fb9e6-b85f-4cb6-e1f0-cd6d641ad759"
      },
      "source": [
        "print(\"Las losowy, \\t Obrazy oryginalne -> HOG -> Klasyfikator \\n\")\n",
        "\n",
        "grid_params_rfc = {'max_depth': [3, 5, 10],\n",
        "                  'min_samples_split': [2, 5, 10]}\n",
        "\n",
        "rfc = GridSearchCV(RandomForestClassifier(),param_grid=grid_params_rfc)\n",
        "rfc = rfc.fit(imData[0:600,:],train_labels[0:600])\n",
        "print(\"Best params: \", rfc.best_params_)\n",
        "pred_labels = rfc.predict(imData[600:1000,:])\n",
        "\n",
        "mask = pred_labels==train_labels[600:1000]\n",
        "correct = np.count_nonzero(mask)\n",
        "print(\"Accuracy:\", correct*100.0/pred_labels.size)\n",
        "\n",
        "cm = confusion_matrix(train_labels[600:1000], pred_labels)\n",
        "print(\"\\n\", cm)\n",
        "print(\"\\n\", classification_report(train_labels[600:1000], pred_labels))"
      ],
      "execution_count": null,
      "outputs": [
        {
          "output_type": "stream",
          "text": [
            "Las losowy, \t Obrazy oryginalne -> HOG -> Klasyfikator \n",
            "\n",
            "Best params:  {'max_depth': 10, 'min_samples_split': 2}\n",
            "Accuracy: 88.25\n",
            "\n",
            " [[35  4  0  0  0  0  0  0  0  0]\n",
            " [ 0 37  0  0  0  0  0  0  0  0]\n",
            " [ 0  0 32  0  0  0  0  2  0  1]\n",
            " [ 0  0  3 30  0  1  0  0  0  0]\n",
            " [ 1  0  0  0 42  0  2  0  0  1]\n",
            " [ 0  0  1  1  0 36  0  0  1  2]\n",
            " [ 2  1  0  0  1  1 35  0  0  0]\n",
            " [ 0  0  4  2  1  0  0 48  0  0]\n",
            " [ 1  2  0  0  1  2  0  0 30  2]\n",
            " [ 3  0  0  0  0  1  1  1  1 28]]\n",
            "\n",
            "               precision    recall  f1-score   support\n",
            "\n",
            "           0       0.83      0.90      0.86        39\n",
            "           1       0.84      1.00      0.91        37\n",
            "           2       0.80      0.91      0.85        35\n",
            "           3       0.91      0.88      0.90        34\n",
            "           4       0.93      0.91      0.92        46\n",
            "           5       0.88      0.88      0.88        41\n",
            "           6       0.92      0.88      0.90        40\n",
            "           7       0.94      0.87      0.91        55\n",
            "           8       0.94      0.79      0.86        38\n",
            "           9       0.82      0.80      0.81        35\n",
            "\n",
            "    accuracy                           0.88       400\n",
            "   macro avg       0.88      0.88      0.88       400\n",
            "weighted avg       0.89      0.88      0.88       400\n",
            "\n"
          ],
          "name": "stdout"
        }
      ]
    },
    {
      "cell_type": "markdown",
      "metadata": {
        "id": "UX0t3pqIE-9y"
      },
      "source": [
        "## Sieć\n"
      ]
    },
    {
      "cell_type": "code",
      "metadata": {
        "colab": {
          "background_save": true
        },
        "id": "gqxb800NE_Zw",
        "outputId": "d42875c5-d5a5-4927-89da-1f308d833ad5"
      },
      "source": [
        "print(\"Sieć, \\t Obrazy oryginalne -> HOG -> Klasyfikator \\n\")\n",
        "\n",
        "grid_params_network = {\n",
        "    'batch_size' : [10, 20, 40],\n",
        "    'epochs' : [1, 5, 10]\n",
        "}\n",
        "\n",
        "model = KerasClassifier(build_fn=create_model, verbose=0, input_shape=(81,))\n",
        "network = GridSearchCV(estimator=model, param_grid=grid_params_network, n_jobs=-1, cv=3)\n",
        "network = network.fit(train_images, encoded_train_labels)\n",
        "print(\"Best params: \", network.best_params_)\n",
        "\n",
        "pred_probabilities = network.predict(test_images)\n",
        "pred_labels = np.argmax(pred_probabilities,-1)\n",
        "\n",
        "test_acc = accuracy_score(test_labels, pred_probabilities)\n",
        "print('Accuracy:', test_acc) \n",
        "\n",
        "cm = confusion_matrix(test_labels, pred_probabilities)\n",
        "print(\"\\n\", cm)\n",
        "print(\"\\n\", classification_report(test_labels, pred_probabilities))"
      ],
      "execution_count": null,
      "outputs": [
        {
          "output_type": "stream",
          "text": [
            "Sieć, \t Obrazy oryginalne -> HOG -> Klasyfikator \n",
            "\n",
            "Best params:  {'batch_size': 10, 'epochs': 10}\n"
          ],
          "name": "stdout"
        },
        {
          "output_type": "stream",
          "text": [
            "/usr/local/lib/python3.7/dist-packages/tensorflow/python/keras/engine/sequential.py:450: UserWarning: `model.predict_classes()` is deprecated and will be removed after 2021-01-01. Please use instead:* `np.argmax(model.predict(x), axis=-1)`,   if your model does multi-class classification   (e.g. if it uses a `softmax` last-layer activation).* `(model.predict(x) > 0.5).astype(\"int32\")`,   if your model does binary classification   (e.g. if it uses a `sigmoid` last-layer activation).\n",
            "  warnings.warn('`model.predict_classes()` is deprecated and '\n"
          ],
          "name": "stderr"
        },
        {
          "output_type": "stream",
          "text": [
            "Accuracy: 0.9389\n",
            "\n",
            " [[ 940    3    6    0    4    7   12    2    3    3]\n",
            " [   0 1124    2    1    4    0    1    0    2    1]\n",
            " [   2    4  962    5    1    1    0   33   20    4]\n",
            " [   0    0   17  954    0   11    0   12   14    2]\n",
            " [   6    3    0    0  944    1   12    0    4   12]\n",
            " [   3    1    1    8    2  809    1    2   48   17]\n",
            " [  16    3    0    0   16    5  910    0    7    1]\n",
            " [   5    5   57   16    1    1    0  906   11   26]\n",
            " [   3    1    9    6    5    7    5    6  904   28]\n",
            " [  17    1    0    3    3   11    2    7   29  936]]\n",
            "\n",
            "               precision    recall  f1-score   support\n",
            "\n",
            "           0       0.95      0.96      0.95       980\n",
            "           1       0.98      0.99      0.99      1135\n",
            "           2       0.91      0.93      0.92      1032\n",
            "           3       0.96      0.94      0.95      1010\n",
            "           4       0.96      0.96      0.96       982\n",
            "           5       0.95      0.91      0.93       892\n",
            "           6       0.97      0.95      0.96       958\n",
            "           7       0.94      0.88      0.91      1028\n",
            "           8       0.87      0.93      0.90       974\n",
            "           9       0.91      0.93      0.92      1009\n",
            "\n",
            "    accuracy                           0.94     10000\n",
            "   macro avg       0.94      0.94      0.94     10000\n",
            "weighted avg       0.94      0.94      0.94     10000\n",
            "\n"
          ],
          "name": "stdout"
        }
      ]
    },
    {
      "cell_type": "markdown",
      "metadata": {
        "id": "d__k79ZUg13l"
      },
      "source": [
        "# **Komentarz do zadania 2**"
      ]
    },
    {
      "cell_type": "markdown",
      "metadata": {
        "id": "PgWZLM_lg8W3"
      },
      "source": [
        "**SVM**\n",
        "\n",
        "Dla danych bez wyrównania accuracy wynosi 90%, natomiast dla danych z wyrównaniem 94.25%.\n",
        "\n",
        "**Lasy Losowe**\n",
        "\n",
        "Dla danych bez wyrównania accuracy wynosi 88.25%, natomiast dla danych z wyrównaniem 93%.\n",
        "\n",
        "**Sieci neuronowe**\n",
        "\n",
        "Dla danych bez wyrównania accuracy wynosi 93.89%, natomiast dla danych z wyrównaniem 95.58%.\n",
        "\n",
        "<br>\n",
        "\n",
        "**Podsumowanie**\n",
        "\n",
        "Możemy zauważyć, że accuracy się znacząco poprawia, jeżeli mamy dane po wyrównaniu. Najlepsze wyniki dają sieci neuronowe."
      ]
    },
    {
      "cell_type": "markdown",
      "metadata": {
        "id": "obt0ZKuW99gm"
      },
      "source": [
        "# **Obrazy oryginalne -> Deskew -> ReshapeTo1D -> Klasyfikator** [Zadanie 3b, 4a]"
      ]
    },
    {
      "cell_type": "markdown",
      "metadata": {
        "id": "TmTzoKJdFgPX"
      },
      "source": [
        "## Przygotowanie danych"
      ]
    },
    {
      "cell_type": "code",
      "metadata": {
        "id": "WvuPVIuzFgbA"
      },
      "source": [
        "(train_images, train_labels), (test_images, test_labels) = mnist.load_data() \n",
        "\n",
        "# dla klasycznych klasyfikatorów\n",
        "im_list = [train_images[i] for i in range(0,train_images.shape[0])] + [test_images[i] for i in range(0,test_images.shape[0])]\n",
        "\n",
        "train_deskewed = [deskew(im) for im in im_list[0:train_images.shape[0]]]\n",
        "test_deskewed = [deskew(im) for im in im_list[train_images.shape[0]:]]\n",
        "\n",
        "train_deskewed = np.asarray(train_deskewed)\n",
        "test_deskewed = np.asarray(test_deskewed)\n",
        "\n",
        "train_deskewed = train_deskewed.reshape((-1, 28 * 28))\n",
        "test_deskewed = test_deskewed.reshape((-1, 28 * 28))\n",
        "\n",
        "im_list = [train_deskewed[i] for i in range(0,train_deskewed.shape[0])] + [test_deskewed[i] for i in range(0,test_deskewed.shape[0])]\n",
        "\n",
        "imData = np.float32(im_list)\n",
        "\n",
        "# dla sieci\n",
        "train_images = train_deskewed.reshape((60000, 28 * 28))\n",
        "train_images = train_images.astype('float32') / 255\n",
        "\n",
        "test_images = test_deskewed.reshape((10000, 28 * 28))\n",
        "test_images = test_images.astype('float32') / 255\n",
        "\n",
        "encoded_train_labels = to_categorical(train_labels)\n",
        "encoded_test_labels = to_categorical(test_labels)"
      ],
      "execution_count": null,
      "outputs": []
    },
    {
      "cell_type": "markdown",
      "metadata": {
        "id": "MPhgWnwQFgjx"
      },
      "source": [
        "## SVM"
      ]
    },
    {
      "cell_type": "code",
      "metadata": {
        "colab": {
          "base_uri": "https://localhost:8080/"
        },
        "id": "dd_I5v4WFgsL",
        "outputId": "b67f34af-f223-4287-803b-e3f1ab26f026"
      },
      "source": [
        "print(\"SVM, \\t Obrazy oryginalne -> Deskew -> ReshapeTo1D -> Klasyfikator \\n\")\n",
        "grid_params_svm = [{'kernel': ['rbf'], 'gamma': [1e-3, 1e-4],\n",
        "                     'C': [1, 10, 100, 1000]},\n",
        "                    {'kernel': ['linear'], 'C': [1, 10, 100, 1000]}]\n",
        "\n",
        "model = GridSearchCV(SVC(),param_grid=grid_params_svm)\n",
        "model.fit(imData[0:600],train_labels[0:600])\n",
        "print(\"Best params: \", model.best_params_)\n",
        "pred_labels = model.predict(imData[600:1000])\n",
        "\n",
        "mask = pred_labels==train_labels[600:1000]\n",
        "correct = np.count_nonzero(mask)\n",
        "print(\"Accuracy:\", correct*100.0/pred_labels.size)\n",
        "\n",
        "cm = confusion_matrix(train_labels[600:1000], pred_labels)\n",
        "print(\"\\n\", cm)\n",
        "print(\"\\n\", classification_report(train_labels[600:1000], pred_labels))"
      ],
      "execution_count": null,
      "outputs": [
        {
          "output_type": "stream",
          "text": [
            "SVM, \t Obrazy oryginalne -> Deskew -> ReshapeTo1D -> Klasyfikator \n",
            "\n",
            "Best params:  {'C': 1, 'kernel': 'linear'}\n",
            "Accuracy: 91.75\n",
            "\n",
            " [[38  0  0  0  0  1  0  0  0  0]\n",
            " [ 0 37  0  0  0  0  0  0  0  0]\n",
            " [ 0  0 33  0  0  0  0  0  1  1]\n",
            " [ 1  0  0 32  0  1  0  0  0  0]\n",
            " [ 0  0  1  0 42  1  0  0  0  2]\n",
            " [ 1  0  0  0  3 36  1  0  0  0]\n",
            " [ 1  0  1  0  0  0 37  0  1  0]\n",
            " [ 0  0  1  0  2  0  0 52  0  0]\n",
            " [ 0  1  1  2  0  1  0  0 33  0]\n",
            " [ 2  0  1  0  2  0  0  2  1 27]]\n",
            "\n",
            "               precision    recall  f1-score   support\n",
            "\n",
            "           0       0.88      0.97      0.93        39\n",
            "           1       0.97      1.00      0.99        37\n",
            "           2       0.87      0.94      0.90        35\n",
            "           3       0.94      0.94      0.94        34\n",
            "           4       0.86      0.91      0.88        46\n",
            "           5       0.90      0.88      0.89        41\n",
            "           6       0.97      0.93      0.95        40\n",
            "           7       0.96      0.95      0.95        55\n",
            "           8       0.92      0.87      0.89        38\n",
            "           9       0.90      0.77      0.83        35\n",
            "\n",
            "    accuracy                           0.92       400\n",
            "   macro avg       0.92      0.92      0.92       400\n",
            "weighted avg       0.92      0.92      0.92       400\n",
            "\n"
          ],
          "name": "stdout"
        }
      ]
    },
    {
      "cell_type": "markdown",
      "metadata": {
        "id": "yS-q9nnXFgzb"
      },
      "source": [
        "## Las losowy"
      ]
    },
    {
      "cell_type": "code",
      "metadata": {
        "colab": {
          "base_uri": "https://localhost:8080/"
        },
        "id": "3323YLTFFg6r",
        "outputId": "9e639d5e-0838-476e-cd85-a5199df561ba"
      },
      "source": [
        "print(\"Las losowy, \\t Obrazy oryginalne -> Deskew -> ReshapeTo1D -> Klasyfikator \\n\")\n",
        "grid_params_rfc = {'max_depth': [3, 5, 10],\n",
        "                  'min_samples_split': [2, 5, 10]}\n",
        "\n",
        "rfc = GridSearchCV(RandomForestClassifier(),param_grid=grid_params_rfc)\n",
        "rfc = rfc.fit(imData[0:600],train_labels[0:600])\n",
        "print(\"Best params: \", rfc.best_params_)\n",
        "pred_labels = rfc.predict(imData[600:1000])\n",
        "\n",
        "mask = pred_labels==train_labels[600:1000]\n",
        "correct = np.count_nonzero(mask)\n",
        "print(\"Accuracy:\", correct*100.0/pred_labels.size)\n",
        "\n",
        "cm = confusion_matrix(train_labels[600:1000], pred_labels)\n",
        "print(\"\\n\", cm)\n",
        "print(\"\\n\", classification_report(train_labels[600:1000], pred_labels))"
      ],
      "execution_count": null,
      "outputs": [
        {
          "output_type": "stream",
          "text": [
            "Las losowy, \t Obrazy oryginalne -> Deskew -> ReshapeTo1D -> Klasyfikator \n",
            "\n",
            "Best params:  {'max_depth': 10, 'min_samples_split': 2}\n",
            "Accuracy: 88.5\n",
            "\n",
            " [[36  0  0  0  0  1  1  0  1  0]\n",
            " [ 0 37  0  0  0  0  0  0  0  0]\n",
            " [ 0  1 33  0  0  0  0  0  0  1]\n",
            " [ 1  1  1 29  0  2  0  0  0  0]\n",
            " [ 0  1  1  0 40  1  1  0  0  2]\n",
            " [ 1  0  1  2  1 35  0  0  1  0]\n",
            " [ 1  0  1  0  0  0 37  0  1  0]\n",
            " [ 0  2  0  0  1  0  0 49  0  3]\n",
            " [ 0  1  0  3  0  4  0  0 30  0]\n",
            " [ 1  0  1  0  2  0  1  1  1 28]]\n",
            "\n",
            "               precision    recall  f1-score   support\n",
            "\n",
            "           0       0.90      0.92      0.91        39\n",
            "           1       0.86      1.00      0.92        37\n",
            "           2       0.87      0.94      0.90        35\n",
            "           3       0.85      0.85      0.85        34\n",
            "           4       0.91      0.87      0.89        46\n",
            "           5       0.81      0.85      0.83        41\n",
            "           6       0.93      0.93      0.93        40\n",
            "           7       0.98      0.89      0.93        55\n",
            "           8       0.88      0.79      0.83        38\n",
            "           9       0.82      0.80      0.81        35\n",
            "\n",
            "    accuracy                           0.89       400\n",
            "   macro avg       0.88      0.88      0.88       400\n",
            "weighted avg       0.89      0.89      0.88       400\n",
            "\n"
          ],
          "name": "stdout"
        }
      ]
    },
    {
      "cell_type": "markdown",
      "metadata": {
        "id": "M0fZ7yQoFo62"
      },
      "source": [
        "## Sieć"
      ]
    },
    {
      "cell_type": "code",
      "metadata": {
        "colab": {
          "background_save": true,
          "base_uri": "https://localhost:8080/"
        },
        "id": "Gb4IYR09Fq3E",
        "outputId": "4d2e4c70-5f5e-4b1a-c2ec-3dc03e39412f"
      },
      "source": [
        "print(\"Sieć, \\t Obrazy oryginalne -> Deskew -> ReshapeTo1D -> Klasyfikator \\n\")\n",
        "\n",
        "grid_params_network = {\n",
        "    'batch_size' : [10, 20, 40],\n",
        "    'epochs' : [1, 5, 10]\n",
        "}\n",
        "\n",
        "model = KerasClassifier(build_fn=create_model, verbose=0, input_shape=(28*28,))\n",
        "network = GridSearchCV(estimator=model, param_grid=grid_params_network, n_jobs=-1, cv=3)\n",
        "network = network.fit(train_images, encoded_train_labels)\n",
        "print(\"Best params: \", network.best_params_)\n",
        "\n",
        "pred_probabilities = network.predict(test_images)\n",
        "pred_labels = np.argmax(pred_probabilities,-1)\n",
        "\n",
        "test_acc = accuracy_score(test_labels, pred_probabilities)\n",
        "print('Accuracy:', test_acc) \n",
        "\n",
        "cm = confusion_matrix(test_labels, pred_probabilities)\n",
        "print(\"\\n\", cm)\n",
        "print(\"\\n\", classification_report(test_labels, pred_probabilities))"
      ],
      "execution_count": null,
      "outputs": [
        {
          "output_type": "stream",
          "text": [
            "Sieć, \t Obrazy oryginalne -> Deskew -> ReshapeTo1D -> Klasyfikator \n",
            "\n"
          ],
          "name": "stdout"
        },
        {
          "output_type": "stream",
          "text": [
            "/usr/local/lib/python3.7/dist-packages/joblib/externals/loky/process_executor.py:691: UserWarning: A worker stopped while some jobs were given to the executor. This can be caused by a too short worker timeout or by a memory leak.\n",
            "  \"timeout or by a memory leak.\", UserWarning\n"
          ],
          "name": "stderr"
        },
        {
          "output_type": "stream",
          "text": [
            "Best params:  {'batch_size': 40, 'epochs': 10}\n"
          ],
          "name": "stdout"
        },
        {
          "output_type": "stream",
          "text": [
            "/usr/local/lib/python3.7/dist-packages/tensorflow/python/keras/engine/sequential.py:450: UserWarning: `model.predict_classes()` is deprecated and will be removed after 2021-01-01. Please use instead:* `np.argmax(model.predict(x), axis=-1)`,   if your model does multi-class classification   (e.g. if it uses a `softmax` last-layer activation).* `(model.predict(x) > 0.5).astype(\"int32\")`,   if your model does binary classification   (e.g. if it uses a `sigmoid` last-layer activation).\n",
            "  warnings.warn('`model.predict_classes()` is deprecated and '\n"
          ],
          "name": "stderr"
        },
        {
          "output_type": "stream",
          "text": [
            "Accuracy: 0.985\n",
            "\n",
            " [[ 972    0    1    0    0    0    6    1    0    0]\n",
            " [   0 1128    1    2    0    2    1    1    0    0]\n",
            " [   1    1 1010    3    4    1    2    5    5    0]\n",
            " [   0    0    4  992    0    7    0    5    1    1]\n",
            " [   0    0    1    0  975    0    4    0    0    2]\n",
            " [   2    0    0    3    2  876    8    0    1    0]\n",
            " [   2    2    2    0    5    1  945    0    1    0]\n",
            " [   1    0    6    0    1    0    0 1018    0    2]\n",
            " [   5    0    1    3    2    2    1    2  956    2]\n",
            " [   0    1    1    0   15    2    0   12    0  978]]\n",
            "\n",
            "               precision    recall  f1-score   support\n",
            "\n",
            "           0       0.99      0.99      0.99       980\n",
            "           1       1.00      0.99      1.00      1135\n",
            "           2       0.98      0.98      0.98      1032\n",
            "           3       0.99      0.98      0.99      1010\n",
            "           4       0.97      0.99      0.98       982\n",
            "           5       0.98      0.98      0.98       892\n",
            "           6       0.98      0.99      0.98       958\n",
            "           7       0.98      0.99      0.98      1028\n",
            "           8       0.99      0.98      0.99       974\n",
            "           9       0.99      0.97      0.98      1009\n",
            "\n",
            "    accuracy                           0.98     10000\n",
            "   macro avg       0.98      0.98      0.98     10000\n",
            "weighted avg       0.99      0.98      0.99     10000\n",
            "\n"
          ],
          "name": "stdout"
        }
      ]
    },
    {
      "cell_type": "markdown",
      "metadata": {
        "id": "QDtw9WsPhH-O"
      },
      "source": [
        "# **Komentarz do zadania 3**"
      ]
    },
    {
      "cell_type": "markdown",
      "metadata": {
        "id": "rBjn5i5-hLPT"
      },
      "source": [
        "**SVM**\n",
        "\n",
        "Dla danych surowych accuracy wynosi 91.75%, natomiast dla danych po OpenCVHOG 94.25%.\n",
        "\n",
        "**Lasy Losowe**\n",
        "\n",
        "Dla danych surowych accuracy wynosi 88.5%, natomiast dla danych po OpenCVHOG 93%.\n",
        "\n",
        "**Sieci neuronowe**\n",
        "\n",
        "Dla danych surowych accuracy wynosi 98.5%, natomiast dla danych po OpenCVHOG 95.58%.\n",
        "\n",
        "<br>\n",
        "\n",
        "**Podsumowanie**\n",
        "\n",
        "Możemy zauważyć, że accuracy się znacząco poprawia, jeżeli mamy dane po OpenCVHOG, ale tylko dla klasycznych klasyfikatorów. W przypadku sieci neuronowych lepszy wynik jest dla danych surowych. W tym przypadku również najlepsze wyniki dają sieci neuronowe."
      ]
    },
    {
      "cell_type": "markdown",
      "metadata": {
        "id": "x1swf0zR80gm"
      },
      "source": [
        "# **Obrazy oryginalne -> Deskew -> ReshapeTo1D -> Shuffle -> Klasyfikator** [Zadanie 4b]"
      ]
    },
    {
      "cell_type": "markdown",
      "metadata": {
        "id": "l446ohKNFskN"
      },
      "source": [
        "## Przygotowanie danych"
      ]
    },
    {
      "cell_type": "code",
      "metadata": {
        "colab": {
          "background_save": true
        },
        "id": "F_Rqg8HLFssX"
      },
      "source": [
        "(train_images, train_labels), (test_images, test_labels) = mnist.load_data() \n",
        "\n",
        "# dla klasycznych klasyfikatorów \n",
        "im_list = [train_images[i] for i in range(0,train_images.shape[0])] + [test_images[i] for i in range(0,test_images.shape[0])]\n",
        "\n",
        "train_deskewed = [deskew(im) for im in im_list[0:train_images.shape[0]]]\n",
        "test_deskewed = [deskew(im) for im in im_list[train_images.shape[0]:]]\n",
        "\n",
        "train_deskewed = np.asarray(train_deskewed)\n",
        "test_deskewed = np.asarray(test_deskewed)\n",
        "\n",
        "train_deskewed = train_deskewed.reshape((-1, 28 * 28))\n",
        "test_deskewed = test_deskewed.reshape((-1, 28 * 28))\n",
        "\n",
        "np.random.shuffle(train_deskewed)\n",
        "np.random.shuffle(test_deskewed)\n",
        "\n",
        "im_list = [train_deskewed[i] for i in range(0,train_deskewed.shape[0])] + [test_deskewed[i] for i in range(0,test_deskewed.shape[0])]\n",
        "\n",
        "imData = np.float32(im_list)\n",
        "\n",
        "# dla sieci\n",
        "train_images = train_deskewed.reshape((60000, 28 * 28))\n",
        "train_images = train_images.astype('float32') / 255\n",
        "\n",
        "test_images = test_deskewed.reshape((10000, 28 * 28))\n",
        "test_images = test_images.astype('float32') / 255\n",
        "\n",
        "encoded_train_labels = to_categorical(train_labels)\n",
        "encoded_test_labels = to_categorical(test_labels)\n"
      ],
      "execution_count": null,
      "outputs": []
    },
    {
      "cell_type": "markdown",
      "metadata": {
        "id": "FqZtCKlxFs0e"
      },
      "source": [
        "## SVM"
      ]
    },
    {
      "cell_type": "code",
      "metadata": {
        "colab": {
          "background_save": true
        },
        "id": "5v2botpfFs7m",
        "outputId": "8030554d-a36a-4e5c-e668-37eb0e09a518"
      },
      "source": [
        "print(\"SVM, \\t Obrazy oryginalne -> Deskew -> ReshapeTo1D -> Shuffle -> Klasyfikator \\n\")\n",
        "grid_params_svm = [{'kernel': ['rbf'], 'gamma': [1e-3, 1e-4],\n",
        "                     'C': [1, 10, 100, 1000]},\n",
        "                    {'kernel': ['linear'], 'C': [1, 10, 100, 1000]}]\n",
        "\n",
        "model = GridSearchCV(SVC(),param_grid=grid_params_svm)\n",
        "model.fit(imData[0:600],train_labels[0:600])\n",
        "print(\"Best params: \", model.best_params_)\n",
        "pred_labels = model.predict(imData[600:1000])\n",
        "\n",
        "mask = pred_labels==train_labels[600:1000]\n",
        "correct = np.count_nonzero(mask)\n",
        "print(\"Accuracy:\", correct*100.0/pred_labels.size)\n",
        "\n",
        "cm = confusion_matrix(train_labels[600:1000], pred_labels)\n",
        "print(\"\\n\", cm)\n",
        "print(\"\\n\", classification_report(train_labels[600:1000], pred_labels))"
      ],
      "execution_count": null,
      "outputs": [
        {
          "output_type": "stream",
          "text": [
            "SVM, \t Obrazy oryginalne -> Deskew -> ReshapeTo1D -> Shuffle -> Klasyfikator \n",
            "\n",
            "Best params:  {'C': 1, 'gamma': 0.001, 'kernel': 'rbf'}\n",
            "Accuracy: 9.25\n",
            "\n",
            " [[ 0 39  0  0  0  0  0  0  0  0]\n",
            " [ 0 37  0  0  0  0  0  0  0  0]\n",
            " [ 0 35  0  0  0  0  0  0  0  0]\n",
            " [ 0 34  0  0  0  0  0  0  0  0]\n",
            " [ 0 46  0  0  0  0  0  0  0  0]\n",
            " [ 0 41  0  0  0  0  0  0  0  0]\n",
            " [ 0 40  0  0  0  0  0  0  0  0]\n",
            " [ 0 55  0  0  0  0  0  0  0  0]\n",
            " [ 0 38  0  0  0  0  0  0  0  0]\n",
            " [ 0 35  0  0  0  0  0  0  0  0]]\n",
            "\n",
            "               precision    recall  f1-score   support\n",
            "\n",
            "           0       0.00      0.00      0.00        39\n",
            "           1       0.09      1.00      0.17        37\n",
            "           2       0.00      0.00      0.00        35\n",
            "           3       0.00      0.00      0.00        34\n",
            "           4       0.00      0.00      0.00        46\n",
            "           5       0.00      0.00      0.00        41\n",
            "           6       0.00      0.00      0.00        40\n",
            "           7       0.00      0.00      0.00        55\n",
            "           8       0.00      0.00      0.00        38\n",
            "           9       0.00      0.00      0.00        35\n",
            "\n",
            "    accuracy                           0.09       400\n",
            "   macro avg       0.01      0.10      0.02       400\n",
            "weighted avg       0.01      0.09      0.02       400\n",
            "\n"
          ],
          "name": "stdout"
        },
        {
          "output_type": "stream",
          "text": [
            "/usr/local/lib/python3.7/dist-packages/sklearn/metrics/_classification.py:1272: UndefinedMetricWarning: Precision and F-score are ill-defined and being set to 0.0 in labels with no predicted samples. Use `zero_division` parameter to control this behavior.\n",
            "  _warn_prf(average, modifier, msg_start, len(result))\n"
          ],
          "name": "stderr"
        }
      ]
    },
    {
      "cell_type": "markdown",
      "metadata": {
        "id": "0n7aZSE5FtCC"
      },
      "source": [
        "## Las losowy"
      ]
    },
    {
      "cell_type": "code",
      "metadata": {
        "colab": {
          "background_save": true
        },
        "id": "0C8qeYeRFtJB",
        "outputId": "efca502f-5998-4d57-f4cc-e4ae5a633a9b"
      },
      "source": [
        "print(\"Las losowy, \\t Obrazy oryginalne -> Deskew -> ReshapeTo1D -> Shuffle -> Klasyfikator \\n\")\n",
        "grid_params_rfc = {'max_depth': [3, 5, 10],\n",
        "                  'min_samples_split': [2, 5, 10]}\n",
        "\n",
        "rfc = GridSearchCV(RandomForestClassifier(),param_grid=grid_params_rfc)\n",
        "rfc = rfc.fit(imData[0:600],train_labels[0:600])\n",
        "print(\"Best params: \", rfc.best_params_)\n",
        "pred_labels = rfc.predict(imData[600:1000])\n",
        "\n",
        "mask = pred_labels==train_labels[600:1000]\n",
        "correct = np.count_nonzero(mask)\n",
        "print(\"Accuracy:\", correct*100.0/pred_labels.size)\n",
        "\n",
        "cm = confusion_matrix(train_labels[600:1000], pred_labels)\n",
        "print(\"\\n\", cm)\n",
        "print(\"\\n\", classification_report(train_labels[600:1000], pred_labels))"
      ],
      "execution_count": null,
      "outputs": [
        {
          "output_type": "stream",
          "text": [
            "Las losowy, \t Obrazy oryginalne -> Deskew -> ReshapeTo1D -> Shuffle -> Klasyfikator \n",
            "\n",
            "Best params:  {'max_depth': 5, 'min_samples_split': 10}\n",
            "Accuracy: 8.25\n",
            "\n",
            " [[ 4 21  3  0  0  0  0  4  0  7]\n",
            " [ 1 21  7  0  0  0  1  6  0  1]\n",
            " [ 0 23  3  0  2  0  0  4  0  3]\n",
            " [ 2 21  4  0  0  0  0  4  1  2]\n",
            " [ 3 22  2  1  0  3  0  9  1  5]\n",
            " [ 1 24  3  0  0  0  0  8  0  5]\n",
            " [ 1 23  2  1  0  0  1  4  0  8]\n",
            " [ 3 33  4  3  2  0  1  3  0  6]\n",
            " [ 1 30  2  1  0  0  0  1  0  3]\n",
            " [ 2 27  1  0  1  0  0  3  0  1]]\n",
            "\n",
            "               precision    recall  f1-score   support\n",
            "\n",
            "           0       0.22      0.10      0.14        39\n",
            "           1       0.09      0.57      0.15        37\n",
            "           2       0.10      0.09      0.09        35\n",
            "           3       0.00      0.00      0.00        34\n",
            "           4       0.00      0.00      0.00        46\n",
            "           5       0.00      0.00      0.00        41\n",
            "           6       0.33      0.03      0.05        40\n",
            "           7       0.07      0.05      0.06        55\n",
            "           8       0.00      0.00      0.00        38\n",
            "           9       0.02      0.03      0.03        35\n",
            "\n",
            "    accuracy                           0.08       400\n",
            "   macro avg       0.08      0.09      0.05       400\n",
            "weighted avg       0.08      0.08      0.05       400\n",
            "\n"
          ],
          "name": "stdout"
        }
      ]
    },
    {
      "cell_type": "markdown",
      "metadata": {
        "id": "BURY776uFtOJ"
      },
      "source": [
        "## Sieć"
      ]
    },
    {
      "cell_type": "code",
      "metadata": {
        "colab": {
          "background_save": true
        },
        "id": "OxHFEl0eFtTf",
        "outputId": "c16a34b6-56f0-4b21-b40c-3ec589a49f8c"
      },
      "source": [
        "print(\"Sieć, \\t Obrazy oryginalne -> Deskew -> ReshapeTo1D -> Shuffle -> Klasyfikator \\n\")\n",
        "\n",
        "grid_params_network = {\n",
        "    'batch_size' : [10, 20, 40],\n",
        "    'epochs' : [1, 5, 10]\n",
        "}\n",
        "\n",
        "model = KerasClassifier(build_fn=create_model, verbose=0, input_shape=(28*28,))\n",
        "network = GridSearchCV(estimator=model, param_grid=grid_params_network, n_jobs=-1, cv=3)\n",
        "network = network.fit(train_images, encoded_train_labels)\n",
        "print(\"Best params: \", network.best_params_)\n",
        "\n",
        "pred_probabilities = network.predict(test_images)\n",
        "pred_labels = np.argmax(pred_probabilities,-1)\n",
        "\n",
        "test_acc = accuracy_score(test_labels, pred_probabilities)\n",
        "print('Accuracy:', test_acc) \n",
        "\n",
        "cm = confusion_matrix(test_labels, pred_probabilities)\n",
        "print(\"\\n\", cm)\n",
        "print(\"\\n\", classification_report(test_labels, pred_probabilities))"
      ],
      "execution_count": null,
      "outputs": [
        {
          "output_type": "stream",
          "text": [
            "Sieć, \t Obrazy oryginalne -> Deskew -> ReshapeTo1D -> Shuffle -> Klasyfikator \n",
            "\n"
          ],
          "name": "stdout"
        },
        {
          "output_type": "stream",
          "text": [
            "/usr/local/lib/python3.7/dist-packages/joblib/externals/loky/process_executor.py:691: UserWarning: A worker stopped while some jobs were given to the executor. This can be caused by a too short worker timeout or by a memory leak.\n",
            "  \"timeout or by a memory leak.\", UserWarning\n"
          ],
          "name": "stderr"
        },
        {
          "output_type": "stream",
          "text": [
            "Best params:  {'batch_size': 10, 'epochs': 5}\n"
          ],
          "name": "stdout"
        },
        {
          "output_type": "stream",
          "text": [
            "/usr/local/lib/python3.7/dist-packages/tensorflow/python/keras/engine/sequential.py:450: UserWarning: `model.predict_classes()` is deprecated and will be removed after 2021-01-01. Please use instead:* `np.argmax(model.predict(x), axis=-1)`,   if your model does multi-class classification   (e.g. if it uses a `softmax` last-layer activation).* `(model.predict(x) > 0.5).astype(\"int32\")`,   if your model does binary classification   (e.g. if it uses a `sigmoid` last-layer activation).\n",
            "  warnings.warn('`model.predict_classes()` is deprecated and '\n"
          ],
          "name": "stderr"
        },
        {
          "output_type": "stream",
          "text": [
            "Accuracy: 0.1113\n",
            "\n",
            " [[  0 810  12  90  13   5   2  16  30   2]\n",
            " [  3 934  12 120   7  10   1  24  21   3]\n",
            " [  3 857   7  94  15   7   4  13  30   2]\n",
            " [  2 828  15 105  14   8   1  10  24   3]\n",
            " [  5 792  13 122   6   2   3  11  25   3]\n",
            " [  2 731   9  83  10   3   2  21  30   1]\n",
            " [  3 769  14 101   9   7   2  15  38   0]\n",
            " [  3 841   8 109  13  11   3  19  20   1]\n",
            " [  1 797   5  96  11   9   1  20  34   0]\n",
            " [  4 810  13 117  13   5   3  16  25   3]]\n",
            "\n",
            "               precision    recall  f1-score   support\n",
            "\n",
            "           0       0.00      0.00      0.00       980\n",
            "           1       0.11      0.82      0.20      1135\n",
            "           2       0.06      0.01      0.01      1032\n",
            "           3       0.10      0.10      0.10      1010\n",
            "           4       0.05      0.01      0.01       982\n",
            "           5       0.04      0.00      0.01       892\n",
            "           6       0.09      0.00      0.00       958\n",
            "           7       0.12      0.02      0.03      1028\n",
            "           8       0.12      0.03      0.05       974\n",
            "           9       0.17      0.00      0.01      1009\n",
            "\n",
            "    accuracy                           0.11     10000\n",
            "   macro avg       0.09      0.10      0.04     10000\n",
            "weighted avg       0.09      0.11      0.05     10000\n",
            "\n"
          ],
          "name": "stdout"
        }
      ]
    },
    {
      "cell_type": "markdown",
      "metadata": {
        "id": "FwvKiUjehV7Z"
      },
      "source": [
        "# **Komentarz do zadania 4**"
      ]
    },
    {
      "cell_type": "markdown",
      "metadata": {
        "id": "kQ9cqYYGmkiA"
      },
      "source": [
        "**SVM**\n",
        "\n",
        "Dla danych oryginalnych accuracy wynosi 91.75%, natomiast dla danych \"zmieszanych\" 9.25%.\n",
        "\n",
        "**Lasy Losowe**\n",
        "\n",
        "Dla danych oryginalnych accuracy wynosi 88.5%, natomiast dla danych \"zmieszanych\" 8.25%.\n",
        "\n",
        "**Sieci neuronowe**\n",
        "\n",
        "Dla danych oryginalnych accuracy wynosi 98.5%, natomiast dla danych \"zmieszanych\" 11.13%.\n",
        "\n",
        "<br>\n",
        "\n",
        "**Podsumowanie**\n",
        "\n",
        "Możemy zauważyć, że dla danych \"zmieszanych\" accuracy jest bardzo niskie i wynosi średnio około 10%.  "
      ]
    }
  ]
}