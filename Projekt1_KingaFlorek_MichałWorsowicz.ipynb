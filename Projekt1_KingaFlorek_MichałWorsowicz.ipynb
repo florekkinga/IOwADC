{
  "nbformat": 4,
  "nbformat_minor": 0,
  "metadata": {
    "colab": {
      "name": "Projekt1_KingaFlorek_MichałWorsowicz.ipynb",
      "provenance": [],
      "collapsed_sections": []
    },
    "kernelspec": {
      "name": "python3",
      "display_name": "Python 3"
    }
  },
  "cells": [
    {
      "cell_type": "code",
      "metadata": {
        "id": "YHOQPosjh6sI",
        "colab": {
          "resources": {
            "http://localhost:8080/nbextensions/google.colab/files.js": {
              "data": "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",
              "ok": true,
              "headers": [
                [
                  "content-type",
                  "application/javascript"
                ]
              ],
              "status": 200,
              "status_text": ""
            }
          },
          "base_uri": "https://localhost:8080/",
          "height": 38
        },
        "outputId": "e8c09bd2-1260-4df6-95ff-f3de1b6e398e"
      },
      "source": [
        "from google.colab import files\n",
        "uploaded = files.upload()"
      ],
      "execution_count": 20,
      "outputs": [
        {
          "output_type": "display_data",
          "data": {
            "text/html": [
              "\n",
              "     <input type=\"file\" id=\"files-c0fd2736-d495-4c51-b2f5-51e605d63ce1\" name=\"files[]\" multiple disabled\n",
              "        style=\"border:none\" />\n",
              "     <output id=\"result-c0fd2736-d495-4c51-b2f5-51e605d63ce1\">\n",
              "      Upload widget is only available when the cell has been executed in the\n",
              "      current browser session. Please rerun this cell to enable.\n",
              "      </output>\n",
              "      <script src=\"/nbextensions/google.colab/files.js\"></script> "
            ],
            "text/plain": [
              "<IPython.core.display.HTML object>"
            ]
          },
          "metadata": {
            "tags": []
          }
        }
      ]
    },
    {
      "cell_type": "code",
      "metadata": {
        "id": "WHcs94J2dSPx"
      },
      "source": [
        "import sklearn\n",
        "from sklearn import metrics\n",
        "from sklearn.model_selection import train_test_split\n",
        "from sklearn.ensemble import RandomForestClassifier\n",
        "from sklearn.model_selection import GridSearchCV\n",
        "from sklearn.preprocessing import StandardScaler\n",
        "from sklearn import decomposition\n",
        "import pandas as pd"
      ],
      "execution_count": 21,
      "outputs": []
    },
    {
      "cell_type": "code",
      "metadata": {
        "colab": {
          "base_uri": "https://localhost:8080/",
          "height": 314
        },
        "id": "taowct6WhpV1",
        "outputId": "4f4c9da6-0331-4c80-aac8-9e1bdaeb9ab0"
      },
      "source": [
        "#---------------------------- model uczenia maszynowego \n",
        "#---------------------------- policzenie wybranego optymalizowanego parametru\n",
        "#---------------------------- narysowanie macierzy pomyłek\n",
        "\n",
        "col_names = [\"Age\", \"Year\", \"Nodes detected\", \"Survival\"]\n",
        "df = pd.read_csv(\"haberman.data\", sep=',', header=None, error_bad_lines=False, na_values=\"?\")\n",
        "df.columns = col_names\n",
        "df = df.sort_values(by=['Survival'])\n",
        "\n",
        "counts = dict()\n",
        "for cls in df['Survival']:\n",
        "  if cls in counts:\n",
        "    counts[cls] += 1\n",
        "  else:\n",
        "    counts[cls] = 1\n",
        "print(\"Survival: \", counts)\n",
        "\n",
        "X = df[[\"Age\", \"Year\", \"Nodes detected\"]]\n",
        "y = df[\"Survival\"]\n",
        "\n",
        "X_train, X_test, y_train, y_test = train_test_split(X, y, test_size=0.3, random_state=10)\n",
        "\n",
        "clf = RandomForestClassifier(n_estimators=100, max_depth=4)\n",
        "clf.fit(X_train,y_train)\n",
        "\n",
        "y_pred=clf.predict(X_test)\n",
        "fpr, tpr, thresholds = metrics.roc_curve(y_test, y_pred, pos_label=2)\n",
        "metrics.plot_confusion_matrix(clf, X_test, y_test)\n",
        "\n",
        "cm1 = metrics.confusion_matrix(y_test, y_pred)\n",
        "\n",
        "sensitivity1 = cm1[0,0]/(cm1[0,0]+cm1[0,1])\n",
        "print('Sensitivity : ', sensitivity1 )"
      ],
      "execution_count": 22,
      "outputs": [
        {
          "output_type": "stream",
          "text": [
            "Survival:  {1: 225, 2: 81}\n",
            "Sensitivity :  1.0\n"
          ],
          "name": "stdout"
        },
        {
          "output_type": "display_data",
          "data": {
            "image/png": "[encoded data removed]",
            "text/plain": [
              "<Figure size 432x288 with 2 Axes>"
            ]
          },
          "metadata": {
            "tags": [],
            "needs_background": "light"
          }
        }
      ]
    },
    {
      "cell_type": "code",
      "metadata": {
        "colab": {
          "base_uri": "https://localhost:8080/"
        },
        "id": "dpnBNKPdKOx9",
        "outputId": "82c80f60-0056-4fa2-c2ee-82835824856c"
      },
      "source": [
        "#---------------------------- przetestowanie i porównanie kilku hiperparametrów\n",
        "grid_param = {  \n",
        "    'n_estimators': [50, 100, 200, 500],\n",
        "    'max_depth': [4, 5, 6, 7],\n",
        "}\n",
        "\n",
        "for i in grid_param['n_estimators']:\n",
        "  for j in grid_param['max_depth']:\n",
        "    clf.set_params(n_estimators=i, max_depth=j)\n",
        "    clf.fit(X_train,y_train)\n",
        "    y_pred=clf.predict(X_test)\n",
        "    cm1 = metrics.confusion_matrix(y_test, y_pred)\n",
        "    sensitivity1 = cm1[0,0]/(cm1[0,0]+cm1[0,1])\n",
        "    print('Sensitivity [' + str(i) + ',' + str(j) + '] : ', str(sensitivity1))"
      ],
      "execution_count": 23,
      "outputs": [
        {
          "output_type": "stream",
          "text": [
            "Sensitivity [50,4] :  0.9848484848484849\n",
            "Sensitivity [50,5] :  0.8939393939393939\n",
            "Sensitivity [50,6] :  0.8787878787878788\n",
            "Sensitivity [50,7] :  0.8939393939393939\n",
            "Sensitivity [100,4] :  1.0\n",
            "Sensitivity [100,5] :  0.9090909090909091\n",
            "Sensitivity [100,6] :  0.8787878787878788\n",
            "Sensitivity [100,7] :  0.9090909090909091\n",
            "Sensitivity [200,4] :  0.9848484848484849\n",
            "Sensitivity [200,5] :  0.9393939393939394\n",
            "Sensitivity [200,6] :  0.8939393939393939\n",
            "Sensitivity [200,7] :  0.8939393939393939\n",
            "Sensitivity [500,4] :  0.9848484848484849\n",
            "Sensitivity [500,5] :  0.9696969696969697\n",
            "Sensitivity [500,6] :  0.8939393939393939\n",
            "Sensitivity [500,7] :  0.8939393939393939\n"
          ],
          "name": "stdout"
        }
      ]
    },
    {
      "cell_type": "code",
      "metadata": {
        "colab": {
          "base_uri": "https://localhost:8080/",
          "height": 332
        },
        "id": "TzWdDUDa3fgw",
        "outputId": "18214f62-acaf-470d-fcd2-5244c9101242"
      },
      "source": [
        "#---------------------------- zastosowanie walidacji krzyżowej do znalezienia optymalnych\n",
        "#---------------------------- hiperparametrów (u nas n_estimators i max_depth) na siatce\n",
        "#---------------------------- policzenie wybranego optymalizowanego parametru na zbiorze testowym \n",
        "#---------------------------- dla optymalnego klasyfikatora i narysowanie dla niego macierzy pomyłek\n",
        "grid_search = GridSearchCV(estimator=clf,param_grid=grid_param,cv=10)\n",
        "grid_search.fit(X_train, y_train)\n",
        "best_parameters = grid_search.best_params_  \n",
        "print(best_parameters)\n",
        "\n",
        "clf = RandomForestClassifier(**best_parameters)\n",
        "clf.fit(X_train, y_train)\n",
        "y_pred=clf.predict(X_test)\n",
        "cm1 = metrics.confusion_matrix(y_test, y_pred)\n",
        "sensitivity1 = cm1[0,0]/(cm1[0,0]+cm1[0,1])\n",
        "print('Best sensitivity: ', str(sensitivity1))\n",
        "metrics.plot_confusion_matrix(clf, X_test, y_test)"
      ],
      "execution_count": 24,
      "outputs": [
        {
          "output_type": "stream",
          "text": [
            "{'max_depth': 4, 'n_estimators': 50}\n",
            "Best sensitivity:  0.9848484848484849\n"
          ],
          "name": "stdout"
        },
        {
          "output_type": "execute_result",
          "data": {
            "text/plain": [
              "<sklearn.metrics._plot.confusion_matrix.ConfusionMatrixDisplay at 0x7fac450c8ed0>"
            ]
          },
          "metadata": {
            "tags": []
          },
          "execution_count": 24
        },
        {
          "output_type": "display_data",
          "data": {
            "image/png": "[encoded data removed]",
            "text/plain": [
              "<Figure size 432x288 with 2 Axes>"
            ]
          },
          "metadata": {
            "tags": [],
            "needs_background": "light"
          }
        }
      ]
    },
    {
      "cell_type": "code",
      "metadata": {
        "id": "4FvGQqSa8qbz"
      },
      "source": [
        "#---------------------------- Zbadanie wpływu normalizacji, standaryzacji i PCA (na cechach będących\n",
        "#---------------------------- liczbami rzeczywistymi) na proces uczenia \n",
        "def normalize(X):\n",
        "  column_maxes = X.max()\n",
        "  X_max = column_maxes.max()\n",
        "  normalized_X = X / X_max\n",
        "  return normalized_X\n",
        "\n",
        "def standardize(X):\n",
        "  standardized_X=pd.DataFrame(StandardScaler().fit_transform(X))\n",
        "  return standardized_X\n",
        "\n",
        "def PCA_1(X):\n",
        "  pca = decomposition.PCA(n_components=3, svd_solver='full')\n",
        "  pca.fit(X)\n",
        "  X = pca.transform(X)\n",
        "  return X\n",
        "\n",
        "def PCA_2(X):\n",
        "  pca = decomposition.PCA(n_components=2, svd_solver='arpack')\n",
        "  pca.fit(X)\n",
        "  X = pca.transform(X)\n",
        "  return X"
      ],
      "execution_count": 25,
      "outputs": []
    },
    {
      "cell_type": "code",
      "metadata": {
        "colab": {
          "base_uri": "https://localhost:8080/"
        },
        "id": "H1BFbuUqEA_-",
        "outputId": "5b8bd0db-f850-4a70-f080-198617558e89"
      },
      "source": [
        "hyper_param = {  \n",
        "    'n_estimators': [50, 100, 200, 500],\n",
        "    'max_depth': [4, 5, 6, 7],\n",
        "    'procedure': ['none', 'normalization', 'standardization', 'PCA(3)', 'PCA(2)'],\n",
        "}\n",
        "\n",
        "X = df[[\"Age\", \"Year\", \"Nodes detected\"]]\n",
        "y = df[\"Survival\"]\n",
        "\n",
        "best_sensitivity = 0\n",
        "best_params = [0,0,'']\n",
        "\n",
        "for p in hyper_param['procedure']:\n",
        "  if (p == 'normalization'):\n",
        "    X = normalize(X)\n",
        "  elif (p == 'standardization'):\n",
        "    X = standardize(X)\n",
        "  elif (p == 'PCA(3)'):\n",
        "    X = PCA_1(X)\n",
        "  elif (p == 'PCA(2)'):\n",
        "    X = PCA_2(X)\n",
        "\n",
        "  X_train, X_test, y_train, y_test = train_test_split(X, y, test_size=0.3, random_state=10)\n",
        "  clf = RandomForestClassifier()\n",
        "\n",
        "  for i in hyper_param['n_estimators']:\n",
        "    for j in hyper_param['max_depth']:\n",
        "      clf.set_params(n_estimators=i, max_depth=j)\n",
        "      clf.fit(X_train,y_train)\n",
        "      y_pred=clf.predict(X_test)\n",
        "      cm1 = metrics.confusion_matrix(y_test, y_pred)\n",
        "      sensitivity1 = cm1[0,0]/(cm1[0,0]+cm1[0,1])\n",
        "      print('Sensitivity [' + str(i) + ',' + str(j) + ',' + str(p) + '] : ', str(sensitivity1))\n",
        "\n",
        "      if (sensitivity1 > best_sensitivity):\n",
        "        best_sensitivity = sensitivity1\n",
        "        best_params = [i,j,p]\n",
        "\n",
        "print('Best sensitivity [' + str(best_params[0]) + ',' + str(best_params[1]) + ',' + str(best_params[2]) + '] : ', str(best_sensitivity))"
      ],
      "execution_count": 26,
      "outputs": [
        {
          "output_type": "stream",
          "text": [
            "Sensitivity [50,4,none] :  0.9848484848484849\n",
            "Sensitivity [50,5,none] :  0.9242424242424242\n",
            "Sensitivity [50,6,none] :  0.8484848484848485\n",
            "Sensitivity [50,7,none] :  0.8484848484848485\n",
            "Sensitivity [100,4,none] :  0.9393939393939394\n",
            "Sensitivity [100,5,none] :  0.9393939393939394\n",
            "Sensitivity [100,6,none] :  0.8939393939393939\n",
            "Sensitivity [100,7,none] :  0.8484848484848485\n",
            "Sensitivity [200,4,none] :  0.9545454545454546\n",
            "Sensitivity [200,5,none] :  0.9393939393939394\n",
            "Sensitivity [200,6,none] :  0.8939393939393939\n",
            "Sensitivity [200,7,none] :  0.8939393939393939\n",
            "Sensitivity [500,4,none] :  0.9848484848484849\n",
            "Sensitivity [500,5,none] :  0.9696969696969697\n",
            "Sensitivity [500,6,none] :  0.8939393939393939\n",
            "Sensitivity [500,7,none] :  0.8939393939393939\n",
            "Sensitivity [50,4,normalization] :  0.9848484848484849\n",
            "Sensitivity [50,5,normalization] :  0.9393939393939394\n",
            "Sensitivity [50,6,normalization] :  0.9090909090909091\n",
            "Sensitivity [50,7,normalization] :  0.8636363636363636\n",
            "Sensitivity [100,4,normalization] :  0.9696969696969697\n",
            "Sensitivity [100,5,normalization] :  0.8787878787878788\n",
            "Sensitivity [100,6,normalization] :  0.8939393939393939\n",
            "Sensitivity [100,7,normalization] :  0.8636363636363636\n",
            "Sensitivity [200,4,normalization] :  0.9848484848484849\n",
            "Sensitivity [200,5,normalization] :  0.9545454545454546\n",
            "Sensitivity [200,6,normalization] :  0.9090909090909091\n",
            "Sensitivity [200,7,normalization] :  0.8939393939393939\n",
            "Sensitivity [500,4,normalization] :  0.9848484848484849\n",
            "Sensitivity [500,5,normalization] :  0.9696969696969697\n",
            "Sensitivity [500,6,normalization] :  0.8939393939393939\n",
            "Sensitivity [500,7,normalization] :  0.8939393939393939\n",
            "Sensitivity [50,4,standardization] :  1.0\n",
            "Sensitivity [50,5,standardization] :  0.9242424242424242\n",
            "Sensitivity [50,6,standardization] :  0.9090909090909091\n",
            "Sensitivity [50,7,standardization] :  0.8636363636363636\n",
            "Sensitivity [100,4,standardization] :  0.9696969696969697\n",
            "Sensitivity [100,5,standardization] :  0.9090909090909091\n",
            "Sensitivity [100,6,standardization] :  0.8787878787878788\n",
            "Sensitivity [100,7,standardization] :  0.8484848484848485\n",
            "Sensitivity [200,4,standardization] :  0.9696969696969697\n",
            "Sensitivity [200,5,standardization] :  0.9393939393939394\n",
            "Sensitivity [200,6,standardization] :  0.8939393939393939\n",
            "Sensitivity [200,7,standardization] :  0.8787878787878788\n",
            "Sensitivity [500,4,standardization] :  0.9848484848484849\n",
            "Sensitivity [500,5,standardization] :  0.9696969696969697\n",
            "Sensitivity [500,6,standardization] :  0.9090909090909091\n",
            "Sensitivity [500,7,standardization] :  0.8787878787878788\n",
            "Sensitivity [50,4,PCA(3)] :  0.8636363636363636\n",
            "Sensitivity [50,5,PCA(3)] :  0.8181818181818182\n",
            "Sensitivity [50,6,PCA(3)] :  0.803030303030303\n",
            "Sensitivity [50,7,PCA(3)] :  0.7727272727272727\n",
            "Sensitivity [100,4,PCA(3)] :  0.8484848484848485\n",
            "Sensitivity [100,5,PCA(3)] :  0.8333333333333334\n",
            "Sensitivity [100,6,PCA(3)] :  0.7878787878787878\n",
            "Sensitivity [100,7,PCA(3)] :  0.8333333333333334\n",
            "Sensitivity [200,4,PCA(3)] :  0.8636363636363636\n",
            "Sensitivity [200,5,PCA(3)] :  0.8333333333333334\n",
            "Sensitivity [200,6,PCA(3)] :  0.8181818181818182\n",
            "Sensitivity [200,7,PCA(3)] :  0.7878787878787878\n",
            "Sensitivity [500,4,PCA(3)] :  0.8333333333333334\n",
            "Sensitivity [500,5,PCA(3)] :  0.8333333333333334\n",
            "Sensitivity [500,6,PCA(3)] :  0.8333333333333334\n",
            "Sensitivity [500,7,PCA(3)] :  0.7727272727272727\n",
            "Sensitivity [50,4,PCA(2)] :  0.8939393939393939\n",
            "Sensitivity [50,5,PCA(2)] :  0.8787878787878788\n",
            "Sensitivity [50,6,PCA(2)] :  0.8636363636363636\n",
            "Sensitivity [50,7,PCA(2)] :  0.8484848484848485\n",
            "Sensitivity [100,4,PCA(2)] :  0.8787878787878788\n",
            "Sensitivity [100,5,PCA(2)] :  0.8787878787878788\n",
            "Sensitivity [100,6,PCA(2)] :  0.8484848484848485\n",
            "Sensitivity [100,7,PCA(2)] :  0.8484848484848485\n",
            "Sensitivity [200,4,PCA(2)] :  0.8939393939393939\n",
            "Sensitivity [200,5,PCA(2)] :  0.8787878787878788\n",
            "Sensitivity [200,6,PCA(2)] :  0.8484848484848485\n",
            "Sensitivity [200,7,PCA(2)] :  0.8484848484848485\n",
            "Sensitivity [500,4,PCA(2)] :  0.8939393939393939\n",
            "Sensitivity [500,5,PCA(2)] :  0.8636363636363636\n",
            "Sensitivity [500,6,PCA(2)] :  0.8787878787878788\n",
            "Sensitivity [500,7,PCA(2)] :  0.8333333333333334\n",
            "Best sensitivity [50,4,standardization] :  1.0\n"
          ],
          "name": "stdout"
        }
      ]
    }
  ]
}